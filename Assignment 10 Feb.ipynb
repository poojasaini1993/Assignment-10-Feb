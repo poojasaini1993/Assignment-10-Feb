{
 "cells": [
  {
   "cell_type": "code",
   "execution_count": 1,
   "id": "c0bba1e0-5dd7-4edf-88c3-a2a5d8d7785f",
   "metadata": {},
   "outputs": [],
   "source": [
    "##Q1. Which function is used to open a file? What are the different modes of opening a file? Explain each mode of file opening."
   ]
  },
  {
   "cell_type": "code",
   "execution_count": 2,
   "id": "d29edc80-a279-4392-8170-8f7c939f658a",
   "metadata": {},
   "outputs": [],
   "source": [
    "##ans-In Python, the open() function is used to open a file. It takes two parameters - the name of the file to be opened and the mode in which the file should be opened.\n",
    "f=open(\"test.txt\",'w')\n",
    "## there are different mode for opening a file. Like that write mode, read mode, append mode, binary mopde etc."
   ]
  },
  {
   "cell_type": "code",
   "execution_count": 4,
   "id": "b76a1dc4-8176-49a4-ace4-5f28574ab0c8",
   "metadata": {},
   "outputs": [],
   "source": [
    "## for write mode\n",
    "## write mode truncate data of the file.\n",
    "f=open(\"test1.txt\",'w')\n",
    "f.write(\"this is my first class of file\")\n",
    "f.close()"
   ]
  },
  {
   "cell_type": "code",
   "execution_count": 5,
   "id": "a246c108-7efd-41ae-9b6f-71bfecdefc77",
   "metadata": {},
   "outputs": [
    {
     "data": {
      "text/plain": [
       "'this is my first class of file'"
      ]
     },
     "execution_count": 5,
     "metadata": {},
     "output_type": "execute_result"
    }
   ],
   "source": [
    "## for read mode\n",
    "f=open(\"test1.txt\",'r')\n",
    "f.read()"
   ]
  },
  {
   "cell_type": "code",
   "execution_count": 8,
   "id": "9be2cd44-16fb-48c0-b86f-7f7cc3d47f5c",
   "metadata": {},
   "outputs": [
    {
     "data": {
      "text/plain": [
       "22"
      ]
     },
     "execution_count": 8,
     "metadata": {},
     "output_type": "execute_result"
    }
   ],
   "source": [
    "## for append mode\n",
    "## append mode is used to have previous data and also have present data\n",
    "f=open(\"test1.txt\",'a')\n",
    "f.write(\"My name is pooja saini\")"
   ]
  },
  {
   "cell_type": "code",
   "execution_count": 9,
   "id": "305d2af0-721b-4337-a94b-e6f5f6e0d436",
   "metadata": {},
   "outputs": [],
   "source": [
    "f.close()"
   ]
  },
  {
   "cell_type": "code",
   "execution_count": 1,
   "id": "30e764d9-1e69-445b-8ff3-83d5ba47b68f",
   "metadata": {},
   "outputs": [],
   "source": [
    "##Q2. Why close() function is used? Why is it important to close a file?\n",
    "##ansn Python, the close() function is used to close an open file. It is important to close a file after reading from it or writing to it, because of avoiding error and freeing resources"
   ]
  },
  {
   "cell_type": "code",
   "execution_count": 2,
   "id": "ad250576-0610-41a9-b987-915f8a313f55",
   "metadata": {},
   "outputs": [],
   "source": [
    "## Q3. Write a python program to create a text file. Write ‘I want to become a Data Scientist’ in that file. Then close the file. Open this file and read the content of the file."
   ]
  },
  {
   "cell_type": "code",
   "execution_count": 3,
   "id": "a5c361ae-9e8e-46c1-a71d-51c3d86b84c3",
   "metadata": {},
   "outputs": [],
   "source": [
    "f=open(\"test2.txt\",'w')"
   ]
  },
  {
   "cell_type": "code",
   "execution_count": 4,
   "id": "ba8ce5b2-2134-49dc-8c08-ab44cca93607",
   "metadata": {},
   "outputs": [
    {
     "data": {
      "text/plain": [
       "33"
      ]
     },
     "execution_count": 4,
     "metadata": {},
     "output_type": "execute_result"
    }
   ],
   "source": [
    "f.write(\"I want to become a Data Scientist\")"
   ]
  },
  {
   "cell_type": "code",
   "execution_count": 5,
   "id": "8e7c5f67-da30-4f78-a24b-0299bdf5ded5",
   "metadata": {},
   "outputs": [],
   "source": [
    "f.close()"
   ]
  },
  {
   "cell_type": "code",
   "execution_count": 6,
   "id": "f193ef89-d1b0-408f-8a31-700f92c4119e",
   "metadata": {},
   "outputs": [],
   "source": [
    "f=open(\"test2.txt\",'r')"
   ]
  },
  {
   "cell_type": "code",
   "execution_count": 7,
   "id": "4e8dbdeb-028d-411b-80e1-a8f58a6cae68",
   "metadata": {},
   "outputs": [
    {
     "data": {
      "text/plain": [
       "'I want to become a Data Scientist'"
      ]
     },
     "execution_count": 7,
     "metadata": {},
     "output_type": "execute_result"
    }
   ],
   "source": [
    "f.read()"
   ]
  },
  {
   "cell_type": "code",
   "execution_count": 8,
   "id": "ec636968-077a-4c67-91c8-3e3c6df0e4ea",
   "metadata": {},
   "outputs": [],
   "source": [
    "## Q4. Explain the following with python code: read(), readline() and readlines()."
   ]
  },
  {
   "cell_type": "code",
   "execution_count": 9,
   "id": "f55b6fc4-9678-4467-b795-5ba9c9673c4f",
   "metadata": {},
   "outputs": [],
   "source": [
    "## read(): This method reads the entire contents of the file into a single string. \n",
    "f=open(\"test3.txt\",'w')"
   ]
  },
  {
   "cell_type": "code",
   "execution_count": 10,
   "id": "7849c22e-28a5-4539-bb6d-8e4f2ecd9728",
   "metadata": {},
   "outputs": [
    {
     "data": {
      "text/plain": [
       "245"
      ]
     },
     "execution_count": 10,
     "metadata": {},
     "output_type": "execute_result"
    }
   ],
   "source": [
    "f.write(\"Data science is an interdisciplinary academic field that uses statistics, scientific computing, scientific methods, processes, algorithms and systems to extract or extrapolate knowledge and insights from noisy, structured, and unstructured data.\")"
   ]
  },
  {
   "cell_type": "code",
   "execution_count": 20,
   "id": "282c06bf-8016-40fb-a542-78d88dbd39d4",
   "metadata": {},
   "outputs": [
    {
     "data": {
      "text/plain": [
       "'Data science is an interdisciplinary academic field that uses statistics, scientific computing, scientific methods, processes, algorithms and systems to extract or extrapolate knowledge and insights from noisy, structured, and unstructured data.'"
      ]
     },
     "execution_count": 20,
     "metadata": {},
     "output_type": "execute_result"
    }
   ],
   "source": [
    "f=open(\"test3.txt\",'r')\n",
    "f.read()"
   ]
  },
  {
   "cell_type": "code",
   "execution_count": 29,
   "id": "cd6954c8-6087-408f-ab54-310350f0d15b",
   "metadata": {},
   "outputs": [
    {
     "data": {
      "text/plain": [
       "''"
      ]
     },
     "execution_count": 29,
     "metadata": {},
     "output_type": "execute_result"
    }
   ],
   "source": [
    "## readline(): This method reads a single line from the file and returns it as a string. \n",
    "f.readline()"
   ]
  },
  {
   "cell_type": "code",
   "execution_count": 30,
   "id": "f051c3bb-01dc-4c37-88c2-44fb00abe672",
   "metadata": {},
   "outputs": [
    {
     "data": {
      "text/plain": [
       "0"
      ]
     },
     "execution_count": 30,
     "metadata": {},
     "output_type": "execute_result"
    }
   ],
   "source": [
    "f.seek(0)"
   ]
  },
  {
   "cell_type": "code",
   "execution_count": 31,
   "id": "b07ec1ce-6418-4f7e-b7c1-49731e3431be",
   "metadata": {},
   "outputs": [
    {
     "data": {
      "text/plain": [
       "'Data science is an interdisciplinary academic field that uses statistics, scientific computing, scientific methods, processes, algorithms and systems to extract or extrapolate knowledge and insights from noisy, structured, and unstructured data.'"
      ]
     },
     "execution_count": 31,
     "metadata": {},
     "output_type": "execute_result"
    }
   ],
   "source": [
    "f.readline()"
   ]
  },
  {
   "cell_type": "code",
   "execution_count": 32,
   "id": "af3a0954-b079-4268-941f-bc10aa9a9127",
   "metadata": {},
   "outputs": [
    {
     "data": {
      "text/plain": [
       "15"
      ]
     },
     "execution_count": 32,
     "metadata": {},
     "output_type": "execute_result"
    }
   ],
   "source": [
    "f.seek(15)\n"
   ]
  },
  {
   "cell_type": "code",
   "execution_count": 33,
   "id": "e06014dc-4c56-47d4-8fa4-6c20c0f7fb25",
   "metadata": {},
   "outputs": [
    {
     "data": {
      "text/plain": [
       "' an interdisciplinary academic field that uses statistics, scientific computing, scientific methods, processes, algorithms and systems to extract or extrapolate knowledge and insights from noisy, structured, and unstructured data.'"
      ]
     },
     "execution_count": 33,
     "metadata": {},
     "output_type": "execute_result"
    }
   ],
   "source": [
    "f.readline()"
   ]
  },
  {
   "cell_type": "code",
   "execution_count": 34,
   "id": "61704cc9-133d-4be8-89ec-7cf78f2a1968",
   "metadata": {},
   "outputs": [
    {
     "data": {
      "text/plain": [
       "[]"
      ]
     },
     "execution_count": 34,
     "metadata": {},
     "output_type": "execute_result"
    }
   ],
   "source": [
    "## readlines(): This method reads all the lines of the file and returns them as a list of strings.\n",
    "f.readlines()"
   ]
  },
  {
   "cell_type": "code",
   "execution_count": 35,
   "id": "eb3300df-1852-40fc-bf68-950573f305fa",
   "metadata": {},
   "outputs": [
    {
     "data": {
      "text/plain": [
       "15"
      ]
     },
     "execution_count": 35,
     "metadata": {},
     "output_type": "execute_result"
    }
   ],
   "source": [
    "f.seek(15)"
   ]
  },
  {
   "cell_type": "code",
   "execution_count": 36,
   "id": "da50bd73-7050-428a-a370-a52176c8db4a",
   "metadata": {},
   "outputs": [
    {
     "data": {
      "text/plain": [
       "[' an interdisciplinary academic field that uses statistics, scientific computing, scientific methods, processes, algorithms and systems to extract or extrapolate knowledge and insights from noisy, structured, and unstructured data.']"
      ]
     },
     "execution_count": 36,
     "metadata": {},
     "output_type": "execute_result"
    }
   ],
   "source": [
    "f.readlines()"
   ]
  },
  {
   "cell_type": "code",
   "execution_count": 37,
   "id": "e9aaea12-ff16-422c-89a4-3a0dd3978d24",
   "metadata": {},
   "outputs": [],
   "source": [
    "## Q5. Explain why with statement is used with open(). What is the advantage of using with statement and  bopen() together?"
   ]
  },
  {
   "cell_type": "code",
   "execution_count": 42,
   "id": "06676f8f-7900-43ab-97b3-5b338f1fa8f6",
   "metadata": {},
   "outputs": [
    {
     "name": "stdout",
     "output_type": "stream",
     "text": [
      "Data science is an interdisciplinary academic field that uses statistics, scientific computing, scientific methods, processes, algorithms and systems to extract or extrapolate knowledge and insights from noisy, structured, and unstructured data.\n"
     ]
    }
   ],
   "source": [
    "## Ans- The with statement is used with the open() function in Python to ensure that a file is properly closed after it has been used. The advantage of using the with statement and open() together is that it makes your code more concise and readable, while also ensuring that your files are properly managed.\n",
    "with open('test3.txt', 'r') as f:\n",
    "    print(f.read())\n",
    "    # Do some reading or writing here\n",
    "     # File is automatically closed here"
   ]
  },
  {
   "cell_type": "code",
   "execution_count": 43,
   "id": "f23bba3d-11fd-4b35-8f27-3511d5af7d15",
   "metadata": {},
   "outputs": [],
   "source": [
    "## Q6. Explain the write() and writelines() functions. Give a suitable example."
   ]
  },
  {
   "cell_type": "code",
   "execution_count": 5,
   "id": "eed6a91b-7215-436d-8e2d-8fdd33bde8c9",
   "metadata": {},
   "outputs": [],
   "source": [
    "##ans- write(): This function writes a single string to the file. If the file doesn't exist, it will be created. If it does exist, the function will overwrite the existing contents of the file.\n",
    "f=open(\"test4.txt\",'w')\n",
    "f.write(\"My name is pooja saini\")\n",
    "f.close()"
   ]
  },
  {
   "cell_type": "code",
   "execution_count": 11,
   "id": "e501af74-7961-48f9-8b19-dd7512dc5c4b",
   "metadata": {},
   "outputs": [],
   "source": [
    "## here write function truncate the previous data\n",
    "f=open(\"test4.txt\",'w')\n",
    "f.write(\"I am digital marketing coordinator\")\n",
    "f.close()"
   ]
  },
  {
   "cell_type": "code",
   "execution_count": 12,
   "id": "7e38f71e-388d-41c4-b1b3-8369b500b21c",
   "metadata": {},
   "outputs": [],
   "source": [
    "## writelines(): This function writes a list of strings to the file. Each string in the list represents a single line in the file. If the file doesn't exist, it will be created. If it does exist, the function will overwrite the existing contents of the file."
   ]
  },
  {
   "cell_type": "code",
   "execution_count": 13,
   "id": "8325af9f-6983-4f60-b2fb-b6869abe77f9",
   "metadata": {},
   "outputs": [],
   "source": [
    "f=open(\"test5.txt\",'w')\n",
    "lines=[\"My name is pooja saini.\\n\", \"I am digital marketing coordinator.\\n\"]\n",
    "f.writelines(lines)\n",
    "f.close()"
   ]
  },
  {
   "cell_type": "code",
   "execution_count": null,
   "id": "3e567a0f-faf2-4b18-bb10-a1044726968a",
   "metadata": {},
   "outputs": [],
   "source": []
  },
  {
   "cell_type": "code",
   "execution_count": null,
   "id": "134c8ee7-bb32-440a-9d79-8a764b62aaba",
   "metadata": {},
   "outputs": [],
   "source": []
  }
 ],
 "metadata": {
  "kernelspec": {
   "display_name": "Python 3 (ipykernel)",
   "language": "python",
   "name": "python3"
  },
  "language_info": {
   "codemirror_mode": {
    "name": "ipython",
    "version": 3
   },
   "file_extension": ".py",
   "mimetype": "text/x-python",
   "name": "python",
   "nbconvert_exporter": "python",
   "pygments_lexer": "ipython3",
   "version": "3.10.8"
  }
 },
 "nbformat": 4,
 "nbformat_minor": 5
}
